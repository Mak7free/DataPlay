{
 "cells": [
  {
   "cell_type": "code",
   "execution_count": 1,
   "metadata": {
    "executionInfo": {
     "elapsed": 6,
     "status": "ok",
     "timestamp": 1712078772765,
     "user": {
      "displayName": "Ritviz",
      "userId": "088"
     },
     "user_tz": -1
    },
    "id": "deadmanrumbling"
   },
   "outputs": [],
   "source": [
    "#First, let's implement the required functions for gradient descent:"
   ]
  },
  {
   "cell_type": "code",
   "execution_count": 2,
   "metadata": {
    "executionInfo": {
     "elapsed": 2,
     "status": "ok",
     "timestamp": 1712078776231,
     "user": {
      "displayName": "Raj Gupta ph22m006",
      "userId": "08820052763223726008"
     },
     "user_tz": -330
    },
    "id": "8Rwd6o5h2Dqf"
   },
   "outputs": [],
   "source": [
    "import numpy as np\n",
    "\n",
    "def sigmoid(z):\n",
    "    return 1 / (1 + np.exp(-z))\n",
    "\n",
    "def fullGradient(w, X, y):\n",
    "    N = len(y)\n",
    "    mu = sigmoid(np.dot(X, w))\n",
    "    gradient = (1/N) * np.dot(X.T, mu - y)\n",
    "    return gradient\n",
    "\n",
    "def randGradient(w, X, y, n):\n",
    "    mu_n = sigmoid(np.dot(X[n], w))\n",
    "    gradient = (mu_n - y[n]) * X[n]\n",
    "    return gradient\n",
    "\n",
    "def fdescent(X, y, rho, job, nEpoch):\n",
    "    N, d = X.shape\n",
    "    w = np.zeros(d)  # initialize parameters\n",
    "    f_history = []   # store history of the objective function\n",
    "\n",
    "    if job == 'full':\n",
    "        indices = np.arange(N)\n",
    "    elif job == 'stochastic':\n",
    "        indices = np.random.permutation(N)\n",
    "\n",
    "    for epoch in range(nEpoch):\n",
    "        for idx in indices:\n",
    "            if job == 'full':\n",
    "                gradient = fullGradient(w, X, y)\n",
    "            elif job == 'stochastic':\n",
    "                gradient = randGradient(w, X, y, idx)\n",
    "            w -= rho / np.sqrt(epoch * N + idx + 1) * gradient\n",
    "            f = np.mean(np.log(1 + np.exp(-y * np.dot(X, w))))\n",
    "            f_history.append(f)\n",
    "\n",
    "    return w, f_history"
   ]
  },
  {
   "cell_type": "code",
   "execution_count": 3,
   "metadata": {
    "executionInfo": {
     "elapsed": 385,
     "status": "ok",
     "timestamp": 1712078959520,
     "user": {
      "displayName": "Raj Gupta ph22m006",
      "userId": "08820052763223726008"
     },
     "user_tz": -330
    },
    "id": "XXgeXIVV2Dxg"
   },
   "outputs": [],
   "source": [
    "import pandas as pd\n",
    "\n",
    "# Load Smarket dataset\n",
    "smarket = pd.read_csv('stock_market.csv')"
   ]
  },
  {
   "cell_type": "code",
   "execution_count": 4,
   "metadata": {
    "colab": {
     "base_uri": "https://localhost:8080/",
     "height": 424
    },
    "executionInfo": {
     "elapsed": 5,
     "status": "ok",
     "timestamp": 1712078988686,
     "user": {
      "displayName": "Raj Gupta ph22m006",
      "userId": "08820052763223726008"
     },
     "user_tz": -330
    },
    "id": "j8nPiL3W2Dz7",
    "outputId": "5ad19ad3-3c86-4d7b-ee19-3ce6fffcccc6"
   },
   "outputs": [
    {
     "data": {
      "text/html": [
       "<div>\n",
       "<style scoped>\n",
       "    .dataframe tbody tr th:only-of-type {\n",
       "        vertical-align: middle;\n",
       "    }\n",
       "\n",
       "    .dataframe tbody tr th {\n",
       "        vertical-align: top;\n",
       "    }\n",
       "\n",
       "    .dataframe thead th {\n",
       "        text-align: right;\n",
       "    }\n",
       "</style>\n",
       "<table border=\"1\" class=\"dataframe\">\n",
       "  <thead>\n",
       "    <tr style=\"text-align: right;\">\n",
       "      <th></th>\n",
       "      <th>Year</th>\n",
       "      <th>Lag1</th>\n",
       "      <th>Lag2</th>\n",
       "      <th>Lag3</th>\n",
       "      <th>Lag4</th>\n",
       "      <th>Lag5</th>\n",
       "      <th>Volume</th>\n",
       "      <th>Today</th>\n",
       "      <th>Direction</th>\n",
       "    </tr>\n",
       "  </thead>\n",
       "  <tbody>\n",
       "    <tr>\n",
       "      <th>0</th>\n",
       "      <td>2001</td>\n",
       "      <td>0.381</td>\n",
       "      <td>-0.192</td>\n",
       "      <td>-2.624</td>\n",
       "      <td>-1.055</td>\n",
       "      <td>5.010</td>\n",
       "      <td>1.19130</td>\n",
       "      <td>0.959</td>\n",
       "      <td>Up</td>\n",
       "    </tr>\n",
       "    <tr>\n",
       "      <th>1</th>\n",
       "      <td>2001</td>\n",
       "      <td>0.959</td>\n",
       "      <td>0.381</td>\n",
       "      <td>-0.192</td>\n",
       "      <td>-2.624</td>\n",
       "      <td>-1.055</td>\n",
       "      <td>1.29650</td>\n",
       "      <td>1.032</td>\n",
       "      <td>Up</td>\n",
       "    </tr>\n",
       "    <tr>\n",
       "      <th>2</th>\n",
       "      <td>2001</td>\n",
       "      <td>1.032</td>\n",
       "      <td>0.959</td>\n",
       "      <td>0.381</td>\n",
       "      <td>-0.192</td>\n",
       "      <td>-2.624</td>\n",
       "      <td>1.41120</td>\n",
       "      <td>-0.623</td>\n",
       "      <td>Down</td>\n",
       "    </tr>\n",
       "    <tr>\n",
       "      <th>3</th>\n",
       "      <td>2001</td>\n",
       "      <td>-0.623</td>\n",
       "      <td>1.032</td>\n",
       "      <td>0.959</td>\n",
       "      <td>0.381</td>\n",
       "      <td>-0.192</td>\n",
       "      <td>1.27600</td>\n",
       "      <td>0.614</td>\n",
       "      <td>Up</td>\n",
       "    </tr>\n",
       "    <tr>\n",
       "      <th>4</th>\n",
       "      <td>2001</td>\n",
       "      <td>0.614</td>\n",
       "      <td>-0.623</td>\n",
       "      <td>1.032</td>\n",
       "      <td>0.959</td>\n",
       "      <td>0.381</td>\n",
       "      <td>1.20570</td>\n",
       "      <td>0.213</td>\n",
       "      <td>Up</td>\n",
       "    </tr>\n",
       "    <tr>\n",
       "      <th>...</th>\n",
       "      <td>...</td>\n",
       "      <td>...</td>\n",
       "      <td>...</td>\n",
       "      <td>...</td>\n",
       "      <td>...</td>\n",
       "      <td>...</td>\n",
       "      <td>...</td>\n",
       "      <td>...</td>\n",
       "      <td>...</td>\n",
       "    </tr>\n",
       "    <tr>\n",
       "      <th>1245</th>\n",
       "      <td>2005</td>\n",
       "      <td>0.422</td>\n",
       "      <td>0.252</td>\n",
       "      <td>-0.024</td>\n",
       "      <td>-0.584</td>\n",
       "      <td>-0.285</td>\n",
       "      <td>1.88850</td>\n",
       "      <td>0.043</td>\n",
       "      <td>Up</td>\n",
       "    </tr>\n",
       "    <tr>\n",
       "      <th>1246</th>\n",
       "      <td>2005</td>\n",
       "      <td>0.043</td>\n",
       "      <td>0.422</td>\n",
       "      <td>0.252</td>\n",
       "      <td>-0.024</td>\n",
       "      <td>-0.584</td>\n",
       "      <td>1.28581</td>\n",
       "      <td>-0.955</td>\n",
       "      <td>Down</td>\n",
       "    </tr>\n",
       "    <tr>\n",
       "      <th>1247</th>\n",
       "      <td>2005</td>\n",
       "      <td>-0.955</td>\n",
       "      <td>0.043</td>\n",
       "      <td>0.422</td>\n",
       "      <td>0.252</td>\n",
       "      <td>-0.024</td>\n",
       "      <td>1.54047</td>\n",
       "      <td>0.130</td>\n",
       "      <td>Up</td>\n",
       "    </tr>\n",
       "    <tr>\n",
       "      <th>1248</th>\n",
       "      <td>2005</td>\n",
       "      <td>0.130</td>\n",
       "      <td>-0.955</td>\n",
       "      <td>0.043</td>\n",
       "      <td>0.422</td>\n",
       "      <td>0.252</td>\n",
       "      <td>1.42236</td>\n",
       "      <td>-0.298</td>\n",
       "      <td>Down</td>\n",
       "    </tr>\n",
       "    <tr>\n",
       "      <th>1249</th>\n",
       "      <td>2005</td>\n",
       "      <td>-0.298</td>\n",
       "      <td>0.130</td>\n",
       "      <td>-0.955</td>\n",
       "      <td>0.043</td>\n",
       "      <td>0.422</td>\n",
       "      <td>1.38254</td>\n",
       "      <td>-0.489</td>\n",
       "      <td>Down</td>\n",
       "    </tr>\n",
       "  </tbody>\n",
       "</table>\n",
       "<p>1250 rows × 9 columns</p>\n",
       "</div>"
      ],
      "text/plain": [
       "      Year   Lag1   Lag2   Lag3   Lag4   Lag5   Volume  Today Direction\n",
       "0     2001  0.381 -0.192 -2.624 -1.055  5.010  1.19130  0.959        Up\n",
       "1     2001  0.959  0.381 -0.192 -2.624 -1.055  1.29650  1.032        Up\n",
       "2     2001  1.032  0.959  0.381 -0.192 -2.624  1.41120 -0.623      Down\n",
       "3     2001 -0.623  1.032  0.959  0.381 -0.192  1.27600  0.614        Up\n",
       "4     2001  0.614 -0.623  1.032  0.959  0.381  1.20570  0.213        Up\n",
       "...    ...    ...    ...    ...    ...    ...      ...    ...       ...\n",
       "1245  2005  0.422  0.252 -0.024 -0.584 -0.285  1.88850  0.043        Up\n",
       "1246  2005  0.043  0.422  0.252 -0.024 -0.584  1.28581 -0.955      Down\n",
       "1247  2005 -0.955  0.043  0.422  0.252 -0.024  1.54047  0.130        Up\n",
       "1248  2005  0.130 -0.955  0.043  0.422  0.252  1.42236 -0.298      Down\n",
       "1249  2005 -0.298  0.130 -0.955  0.043  0.422  1.38254 -0.489      Down\n",
       "\n",
       "[1250 rows x 9 columns]"
      ]
     },
     "execution_count": 4,
     "metadata": {},
     "output_type": "execute_result"
    }
   ],
   "source": [
    "smarket"
   ]
  },
  {
   "cell_type": "code",
   "execution_count": 5,
   "metadata": {
    "executionInfo": {
     "elapsed": 4,
     "status": "ok",
     "timestamp": 1712079008644,
     "user": {
      "displayName": "Raj Gupta ph22m006",
      "userId": "08820052763223726008"
     },
     "user_tz": -330
    },
    "id": "76Lze5yl2D3F"
   },
   "outputs": [],
   "source": [
    "# Remove the first column (year)\n",
    "smarket = smarket.drop(columns=['Year'])"
   ]
  },
  {
   "cell_type": "code",
   "execution_count": 6,
   "metadata": {
    "executionInfo": {
     "elapsed": 622,
     "status": "ok",
     "timestamp": 1712079068099,
     "user": {
      "displayName": "Raj Gupta ph22m006",
      "userId": "08820052763223726008"
     },
     "user_tz": -330
    },
    "id": "o_XuACQO2D6v"
   },
   "outputs": [],
   "source": [
    "# Convert 'Direction' column to binary labels (1 for Up, 0 for Down)\n",
    "smarket['Direction'] = smarket['Direction'].apply(lambda x: 1 if x == 'Up' else 0)\n",
    "\n"
   ]
  },
  {
   "cell_type": "code",
   "execution_count": 7,
   "metadata": {
    "executionInfo": {
     "elapsed": 2,
     "status": "ok",
     "timestamp": 1712079069802,
     "user": {
      "displayName": "Raj Gupta ph22m006",
      "userId": "08820052763223726008"
     },
     "user_tz": -330
    },
    "id": "PKdM_AfX2D9Y"
   },
   "outputs": [],
   "source": [
    "# Extract features and labels\n",
    "X = smarket.drop(columns=['Direction']).values\n",
    "y = smarket['Direction'].values\n",
    "\n"
   ]
  },
  {
   "cell_type": "code",
   "execution_count": 8,
   "metadata": {
    "executionInfo": {
     "elapsed": 2,
     "status": "ok",
     "timestamp": 1712079070960,
     "user": {
      "displayName": "Raj Gupta ph22m006",
      "userId": "08820052763223726008"
     },
     "user_tz": -330
    },
    "id": "WOkzaLVW2D_1"
   },
   "outputs": [],
   "source": [
    "# Add bias term (column of ones) to feature matrix\n",
    "X = np.column_stack((np.ones(len(X)), X))\n",
    "\n",
    "# Split data into training and test sets (years 2001-2004 as training, 2005 as test)\n",
    "train_mask = smarket.index < 1250\n",
    "test_mask = ~train_mask\n",
    "\n",
    "X_train, y_train = X[train_mask], y[train_mask]\n",
    "X_test, y_test = X[test_mask], y[test_mask]\n",
    "\n"
   ]
  },
  {
   "cell_type": "code",
   "execution_count": 9,
   "metadata": {
    "colab": {
     "base_uri": "https://localhost:8080/",
     "height": 449
    },
    "executionInfo": {
     "elapsed": 2591,
     "status": "ok",
     "timestamp": 1712079160282,
     "user": {
      "displayName": "Raj Gupta ph22m006",
      "userId": "08820052763223726008"
     },
     "user_tz": -330
    },
    "id": "51Bv1fmH3S4f",
    "outputId": "556d5edf-4409-47f8-9cf6-f46721903fe6"
   },
   "outputs": [
    {
     "data": {
      "image/png": "[encoded data removed]",
      "text/plain": [
       "<Figure size 640x480 with 1 Axes>"
      ]
     },
     "metadata": {},
     "output_type": "display_data"
    }
   ],
   "source": [
    "# Define learning rate schedule\n",
    "rho = 1\n",
    "\n",
    "# Run logistic regression using full gradient descent\n",
    "w_full, f_history_full = fdescent(X_train, y_train, rho, 'full', nEpoch=3)\n",
    "\n",
    "# Run logistic regression using stochastic gradient descent\n",
    "w_stochastic, f_history_stochastic = fdescent(X_train, y_train, rho, 'stochastic', nEpoch=3)\n",
    "\n",
    "# Plot the histories of the objective function\n",
    "import matplotlib.pyplot as plt\n",
    "\n",
    "plt.plot(f_history_full, label='Full Gradient Descent')\n",
    "plt.plot(f_history_stochastic, label='Stochastic Gradient Descent')\n",
    "plt.xlabel('Iteration')\n",
    "plt.ylabel('Objective Function')\n",
    "plt.legend()\n",
    "plt.show()"
   ]
  },
  {
   "cell_type": "code",
   "execution_count": 10,
   "metadata": {
    "executionInfo": {
     "elapsed": 382,
     "status": "ok",
     "timestamp": 1712079394285,
     "user": {
      "displayName": "Raj Gupta ph22m006",
      "userId": "08820052763223726008"
     },
     "user_tz": -330
    },
    "id": "e21NxN6E3S8_"
   },
   "outputs": [],
   "source": [
    "def predict_prob_class(X, w):\n",
    "    prob = sigmoid(np.dot(X, w))\n",
    "    return prob, np.round(prob)\n",
    "\n",
    "# Predict probabilities and classes for test set using full gradient descent\n",
    "prob_full, class_full = predict_prob_class(X_test, w_full)\n",
    "\n",
    "# Predict probabilities and classes for test set using stochastic gradient descent\n",
    "prob_stochastic, class_stochastic = predict_prob_class(X_test, w_stochastic)\n",
    "\n",
    "# Create a table containing probabilities, classifiers, and actual directions for each test point\n",
    "test_results = pd.DataFrame({\n",
    "    'Prob_Full': prob_full,\n",
    "    'Class_Full': class_full,\n",
    "    'Prob_Stochastic': prob_stochastic,\n",
    "    'Class_Stochastic': class_stochastic,\n",
    "    'Actual_Direction': y_test\n",
    "})\n",
    "\n"
   ]
  },
  {
   "cell_type": "code",
   "execution_count": 11,
   "metadata": {
    "colab": {
     "base_uri": "https://localhost:8080/"
    },
    "executionInfo": {
     "elapsed": 379,
     "status": "ok",
     "timestamp": 1712079397640,
     "user": {
      "displayName": "Raj Gupta ph22m006",
      "userId": "08820052763223726008"
     },
     "user_tz": -330
    },
    "id": "IP6M9qrb3TAI",
    "outputId": "c16978aa-9747-4266-86c2-e956038bd7f4"
   },
   "outputs": [
    {
     "name": "stdout",
     "output_type": "stream",
     "text": [
      "Misclassified points (Full Gradient Descent): 0\n",
      "Misclassified points (Stochastic Gradient Descent): 0\n"
     ]
    }
   ],
   "source": [
    "# Count misclassified points\n",
    "misclassified_full = (test_results['Class_Full'] != test_results['Actual_Direction']).sum()\n",
    "misclassified_stochastic = (test_results['Class_Stochastic'] != test_results['Actual_Direction']).sum()\n",
    "\n",
    "print(\"Misclassified points (Full Gradient Descent):\", misclassified_full)\n",
    "print(\"Misclassified points (Stochastic Gradient Descent):\", misclassified_stochastic)\n",
    "\n"
   ]
  },
  {
   "cell_type": "code",
   "execution_count": 12,
   "metadata": {
    "executionInfo": {
     "elapsed": 1836,
     "status": "ok",
     "timestamp": 1712079402932,
     "user": {
      "displayName": "Raj Gupta ph22m006",
      "userId": "08820052763223726008"
     },
     "user_tz": -330
    },
    "id": "cFcMe8A53TCj"
   },
   "outputs": [],
   "source": [
    "# Modify the dataset to predict the direction of the following day\n",
    "X_modified = X.copy()\n",
    "y_modified = np.roll(y, -1)\n",
    "X_modified = X_modified[:-1]\n",
    "y_modified = y_modified[:-1]\n",
    "\n",
    "# Split data into training and test sets (years 2001-2004 as training, 2005 as test)\n",
    "train_mask_mod = smarket.index[:-1] < 1250  # Adjusted mask for modified dataset\n",
    "test_mask_mod = ~train_mask_mod\n",
    "\n",
    "X_train_mod, y_train_mod = X_modified[train_mask_mod], y_modified[train_mask_mod]\n",
    "X_test_mod, y_test_mod = X_modified[test_mask_mod], y_modified[test_mask_mod]\n",
    "\n",
    "# Run logistic regression using full gradient descent on modified data\n",
    "w_full_mod, _ = fdescent(X_train_mod, y_train_mod, rho, 'full', nEpoch=3)\n",
    "\n",
    "# Run logistic regression using stochastic gradient descent on modified data\n",
    "w_stochastic_mod, _ = fdescent(X_train_mod, y_train_mod, rho, 'stochastic', nEpoch=3)\n",
    "\n",
    "# Predict probabilities and classes for modified test set using full gradient descent\n",
    "prob_full_mod, class_full_mod = predict_prob_class(X_test_mod, w_full_mod)\n",
    "\n",
    "# Predict probabilities and classes for modified test set using stochastic gradient descent\n",
    "prob_stochastic_mod, class_stochastic_mod = predict_prob_class(X_test_mod, w_stochastic_mod)\n",
    "\n"
   ]
  },
  {
   "cell_type": "code",
   "execution_count": 13,
   "metadata": {
    "colab": {
     "base_uri": "https://localhost:8080/"
    },
    "executionInfo": {
     "elapsed": 6,
     "status": "ok",
     "timestamp": 1712079405755,
     "user": {
      "displayName": "Raj Gupta ph22m006",
      "userId": "08820052763223726008"
     },
     "user_tz": -330
    },
    "id": "nSIKi8824Gjp",
    "outputId": "91dd6cb7-8bb4-4d45-c116-acb8c1f2c73c"
   },
   "outputs": [
    {
     "name": "stdout",
     "output_type": "stream",
     "text": [
      "Misclassified points with modified dataset (Full Gradient Descent): 0\n",
      "Misclassified points with modified dataset (Stochastic Gradient Descent): 0\n"
     ]
    }
   ],
   "source": [
    "# Create a table containing probabilities, classifiers, and actual directions for each modified test point\n",
    "test_results_mod = pd.DataFrame({\n",
    "    'Prob_Full_Modified': prob_full_mod,\n",
    "    'Class_Full_Modified': class_full_mod,\n",
    "    'Prob_Stochastic_Modified': prob_stochastic_mod,\n",
    "    'Class_Stochastic_Modified': class_stochastic_mod,\n",
    "    'Actual_Direction_Modified': y_test_mod\n",
    "})\n",
    "\n",
    "# Count misclassified points with modified dataset\n",
    "misclassified_full_mod = (test_results_mod['Class_Full_Modified'] != test_results_mod['Actual_Direction_Modified']).sum()\n",
    "misclassified_stochastic_mod = (test_results_mod['Class_Stochastic_Modified'] != test_results_mod['Actual_Direction_Modified']).sum()\n",
    "\n",
    "print(\"Misclassified points with modified dataset (Full Gradient Descent):\", misclassified_full_mod)\n",
    "print(\"Misclassified points with modified dataset (Stochastic Gradient Descent):\", misclassified_stochastic_mod)"
   ]
  },
  {
   "cell_type": "code",
   "execution_count": null,
   "metadata": {
    "executionInfo": {
     "elapsed": 7,
     "status": "ok",
     "timestamp": 1712079470839,
     "user": {
      "displayName": "Raj Gupta ph22m006",
      "userId": "08820052763223726008"
     },
     "user_tz": -330
    },
    "id": "CrB8W5dB4GmM"
   },
   "outputs": [],
   "source": []
  }
 ],
 "metadata": {
  "colab": {
   "authorship_tag": "ABX9TyMZsJdBENKOSpFQ8UHE1wcc",
   "provenance": []
  },
  "kernelspec": {
   "display_name": "Python 3 (ipykernel)",
   "language": "python",
   "name": "python3"
  },
  "language_info": {
   "codemirror_mode": {
    "name": "ipython",
    "version": 3
   },
   "file_extension": ".py",
   "mimetype": "text/x-python",
   "name": "python",
   "nbconvert_exporter": "python",
   "pygments_lexer": "ipython3",
   "version": "3.11.7"
  }
 },
 "nbformat": 4,
 "nbformat_minor": 4
}
